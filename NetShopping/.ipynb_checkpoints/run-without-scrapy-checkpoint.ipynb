{
 "cells": [
  {
   "cell_type": "code",
   "execution_count": 116,
   "metadata": {},
   "outputs": [],
   "source": [
    "from scrapy import signals\n",
    "from selenium import webdriver\n",
    "from selenium.webdriver.common.by import By\n",
    "from selenium.webdriver.common.action_chains import ActionChains\n",
    "from selenium.webdriver.support.ui import WebDriverWait\n",
    "from selenium.webdriver.support import expected_conditions as EC\n",
    "import time\n",
    "from bs4 import BeautifulSoup as bs\n",
    "import pandas as pd\n",
    "\n",
    "class Driver():\n",
    "\n",
    "    \n",
    "    BUSY=0\n",
    "    IDEL=1\n",
    "    \n",
    "    def __init__(self):\n",
    "        options = webdriver.ChromeOptions()\n",
    "        options.add_argument('user-data-dir=\"/Users/zhangming/Library/Application Support/Google/Chrome/Default\"')\n",
    "        options.add_argument('user-agent=\"Mozilla/5.0 (Macintosh; Intel Mac OS X 10_13_6) AppleWebKit/537.36 (KHTML, like Gecko) Chrome/69.0.3497.100 Safari/537.36\"')\n",
    "        self.driver = webdriver.Chrome(chrome_options=options)\n",
    "        self.status=self.IDEL\n",
    "    \n",
    "    def get(self,url):\n",
    "        if self.status:\n",
    "            self.status=self.BUSY            \n",
    "            self.driver.implicitly_wait(10)\n",
    "            self.driver.get(url)\n",
    "            content = self.driver.page_source\n",
    "            self.status=self.IDEL\n",
    "            return content\n",
    "    def status(self):\n",
    "        return self.status\n",
    "    \n",
    "    def close(self):\n",
    "        self.driver.close()\n",
    "         \n",
    "    \n",
    "    \n",
    "class WebDriver():\n",
    "    \n",
    "    \n",
    "    driver=[]\n",
    "    url_queue=[]\n",
    "    number=1\n",
    "    hash_key=0\n",
    "\n",
    "    def __init__(self,number=1):\n",
    "        \n",
    "        for x in range(number):\n",
    "            \n",
    "            dr=Driver()\n",
    "            dr.get('https://www.taobao.com')\n",
    "            self.driver.append(dr)            \n",
    "\n",
    "        self.number=number\n",
    "        \n",
    "        \n",
    "    def __run__(self):\n",
    "        \n",
    "        while(True):\n",
    "            if len(url_queue)!=0:\n",
    "                for x in range(number):\n",
    "                    if self.driver[x].status:\n",
    "                        self.driver[x].get(url_queue.pop())\n",
    "                        break\n",
    "            time.sleep(5)\n",
    "            \n",
    "    def close(self):\n",
    "        for x in range(self.number):\n",
    "            self.driver[x].close()\n",
    "        \n",
    "    \n",
    "    def get(self,url):\n",
    "        self.hash_key=self.hash_key+1\n",
    "        return self.driver[self.hash_key%self.number].get(url)\n",
    "    '''\n",
    "        while(True):\n",
    "            for x in range(self.number):\n",
    "                if self.driver[x].status:\n",
    "                    return self.driver[x].get(url)'''\n",
    "        \n",
    "        \n",
    "    \n",
    "    def __push(self,url):\n",
    "        self.url_queue.append(url)\n",
    "        \n",
    "    \n",
    "    def __pop(self):\n",
    "        if len(self.url_queue)!=0:\n",
    "            return self.url_queue.pop(0)\n",
    "    \n",
    "\n",
    "    def loadcookie(self,path):\n",
    "        with open(path,'r') as f:\n",
    "            text=f.read()\n",
    "        \n",
    "        items=text.split(';')\n",
    "        ret={}\n",
    "        for item in items:\n",
    "            vals=item.split('=',maxsplit=1)\n",
    "            ret[vals[0]]=vals[1]\n",
    "            \n",
    "        return ret   \n",
    "        \n",
    "    def setcookie(self,cookie):\n",
    "        for driver in self.driver:\n",
    "            driver.delete_all_cookies()\n",
    "            for key,val in cookie.items():\n",
    "                driver.add_cookie({'name':key,'value':val})\n",
    "       \n",
    "    def search(self,key):\n",
    "        driver=self.driver[self.hash_key%self.number]\n",
    "        bar=driver.find_element_by_css_selector('.input#q.earch-combobox-input')\n",
    "        button=driver.find_element_by_css_selector('.button.btn-search tb-bg'\n",
    "        ActionChains(driver).move_to_element(bar).click(bar).send_keys(key).move_to_element(button).click(button)\n"
   ]
  },
  {
   "cell_type": "code",
   "execution_count": 117,
   "metadata": {},
   "outputs": [],
   "source": [
    "k=WebDriver()"
   ]
  },
  {
   "cell_type": "code",
   "execution_count": null,
   "metadata": {},
   "outputs": [],
   "source": [
    "cookie=k.loadcookie('./cookie.txt')\n",
    "k.setcookie(cookie)"
   ]
  },
  {
   "cell_type": "code",
   "execution_count": 118,
   "metadata": {},
   "outputs": [],
   "source": [
    "def searchurl(key):\n",
    "    keys=key.split()\n",
    "    key_str='+'.join(keys)\n",
    "    return 'https://s.taobao.com/search?q='+key_str+'+书&imgfile=&js=1&stats_click=search_radio_all%3A1&initiative_id=staobaoz_20181012&ie=utf8'\n",
    "    \n",
    "  "
   ]
  },
  {
   "cell_type": "code",
   "execution_count": null,
   "metadata": {},
   "outputs": [],
   "source": [
    "def input_to_search(driver,key):\n",
    "    bar=driver.find_element_by_css_selector('input#q.search-combobox-input').clear()\n",
    "    button=driver.find_element_by_css_selector('button.submit.icon-btn-search')\n",
    "    ActionChains(driver).send_keys(key).click(button).perform()\n",
    "    return driver.page_source"
   ]
  },
  {
   "cell_type": "code",
   "execution_count": 119,
   "metadata": {},
   "outputs": [],
   "source": [
    "\n",
    "def loadkeys(path):\n",
    "    data=pd.read_csv(path,header=None)\n",
    "    return data.iloc[:,0].values"
   ]
  },
  {
   "cell_type": "code",
   "execution_count": 120,
   "metadata": {},
   "outputs": [],
   "source": [
    "import re\n",
    "def parse(soup,key):\n",
    "    output=[]\n",
    "    for item in soup.find_all('div', class_=re.compile(\"item J_MouserOnverReq\")):\n",
    "        data_list=[]\n",
    "        name=item.find('img',class_=re.compile('J_ItemPic'))['alt']\n",
    "        price=item.find('a',class_=re.compile('J_ClickStat'))['trace-price']\n",
    "        shop_name=item.find('div',class_=re.compile('shop')).get_text().strip()\n",
    "        shop_url=item.find('a',class_=re.compile('shopname'))['href']\n",
    "        item_url=item.find('a',class_=re.compile('pic-link'))['data-href']\n",
    "    \n",
    "        data_list.append(key)\n",
    "        data_list.append(name)\n",
    "        data_list.append(item_url)\n",
    "        data_list.append(price)\n",
    "        data_list.append(shop_name)\n",
    "        data_list.append(shop_url)\n",
    "        output.append(data_list)\n",
    "    print(output)\n",
    "    return output"
   ]
  },
  {
   "cell_type": "code",
   "execution_count": 121,
   "metadata": {},
   "outputs": [],
   "source": [
    "def run(driver):\n",
    "\n",
    "    keys=loadkeys('booklist.csv')\n",
    "    start_urls={}\n",
    "    data_list=[]\n",
    "    \n",
    "    for key in keys:\n",
    "        start_urls[key]=searchurl(key)\n",
    "        print(start_urls[key])\n",
    "        \n",
    "    for key, url in start_urls.items():\n",
    "        time.sleep(10)\n",
    "        content=input_to_search(driver,key)\n",
    "        #content=driver.get(url)\n",
    "        data=parse(bs(content,'lxml'),key)\n",
    "        data_list.extend(data)\n",
    "\n",
    "    return data_list  \n",
    "        "
   ]
  },
  {
   "cell_type": "code",
   "execution_count": 122,
   "metadata": {},
   "outputs": [
    {
     "name": "stdout",
     "output_type": "stream",
     "text": [
      "https://s.taobao.com/search?q=小鸟的晨歌+书&imgfile=&js=1&stats_click=search_radio_all%3A1&initiative_id=staobaoz_20181012&ie=utf8\n",
      "https://s.taobao.com/search?q=穿浅蓝格子衫的太阳+书&imgfile=&js=1&stats_click=search_radio_all%3A1&initiative_id=staobaoz_20181012&ie=utf8\n",
      "https://s.taobao.com/search?q=100只兔子想唱歌+书&imgfile=&js=1&stats_click=search_radio_all%3A1&initiative_id=staobaoz_20181012&ie=utf8\n",
      "https://s.taobao.com/search?q=阿文的小毯子+书&imgfile=&js=1&stats_click=search_radio_all%3A1&initiative_id=staobaoz_20181012&ie=utf8\n",
      "https://s.taobao.com/search?q=奥莉薇+书&imgfile=&js=1&stats_click=search_radio_all%3A1&initiative_id=staobaoz_20181012&ie=utf8\n",
      "https://s.taobao.com/search?q=迟到的理由+书&imgfile=&js=1&stats_click=search_radio_all%3A1&initiative_id=staobaoz_20181012&ie=utf8\n",
      "https://s.taobao.com/search?q=大卫上学去+书&imgfile=&js=1&stats_click=search_radio_all%3A1&initiative_id=staobaoz_20181012&ie=utf8\n",
      "https://s.taobao.com/search?q=棉被山隧道+书&imgfile=&js=1&stats_click=search_radio_all%3A1&initiative_id=staobaoz_20181012&ie=utf8\n",
      "https://s.taobao.com/search?q=蚯蚓的日记+书&imgfile=&js=1&stats_click=search_radio_all%3A1&initiative_id=staobaoz_20181012&ie=utf8\n",
      "https://s.taobao.com/search?q=神奇糖果店+书&imgfile=&js=1&stats_click=search_radio_all%3A1&initiative_id=staobaoz_20181012&ie=utf8\n",
      "https://s.taobao.com/search?q=狮子爸爸的茶会+书&imgfile=&js=1&stats_click=search_radio_all%3A1&initiative_id=staobaoz_20181012&ie=utf8\n",
      "https://s.taobao.com/search?q=下雪天+书&imgfile=&js=1&stats_click=search_radio_all%3A1&initiative_id=staobaoz_20181012&ie=utf8\n",
      "https://s.taobao.com/search?q=一寸虫+书&imgfile=&js=1&stats_click=search_radio_all%3A1&initiative_id=staobaoz_20181012&ie=utf8\n",
      "https://s.taobao.com/search?q=云朵一样的八哥+书&imgfile=&js=1&stats_click=search_radio_all%3A1&initiative_id=staobaoz_20181012&ie=utf8\n",
      "https://s.taobao.com/search?q=子儿，吐吐+书&imgfile=&js=1&stats_click=search_radio_all%3A1&initiative_id=staobaoz_20181012&ie=utf8\n",
      "https://s.taobao.com/search?q=笨狼的故事+书&imgfile=&js=1&stats_click=search_radio_all%3A1&initiative_id=staobaoz_20181012&ie=utf8\n",
      "https://s.taobao.com/search?q=彼得兔经典故事+书&imgfile=&js=1&stats_click=search_radio_all%3A1&initiative_id=staobaoz_20181012&ie=utf8\n",
      "https://s.taobao.com/search?q=聪明的狐狐+书&imgfile=&js=1&stats_click=search_radio_all%3A1&initiative_id=staobaoz_20181012&ie=utf8\n",
      "https://s.taobao.com/search?q=大个子老鼠小个子猫+书&imgfile=&js=1&stats_click=search_radio_all%3A1&initiative_id=staobaoz_20181012&ie=utf8\n",
      "https://s.taobao.com/search?q=青蛙和蟾蜍+书&imgfile=&js=1&stats_click=search_radio_all%3A1&initiative_id=staobaoz_20181012&ie=utf8\n",
      "https://s.taobao.com/search?q=我和小姐姐克拉拉+书&imgfile=&js=1&stats_click=search_radio_all%3A1&initiative_id=staobaoz_20181012&ie=utf8\n",
      "https://s.taobao.com/search?q=小熊帕丁顿系列+蒸发魔法+书&imgfile=&js=1&stats_click=search_radio_all%3A1&initiative_id=staobaoz_20181012&ie=utf8\n",
      "https://s.taobao.com/search?q=小猪唏哩呼噜+书&imgfile=&js=1&stats_click=search_radio_all%3A1&initiative_id=staobaoz_20181012&ie=utf8\n",
      "https://s.taobao.com/search?q=苍蝇的日记+书&imgfile=&js=1&stats_click=search_radio_all%3A1&initiative_id=staobaoz_20181012&ie=utf8\n",
      "https://s.taobao.com/search?q=丁丁历险记+书&imgfile=&js=1&stats_click=search_radio_all%3A1&initiative_id=staobaoz_20181012&ie=utf8\n",
      "https://s.taobao.com/search?q=海马先生+书&imgfile=&js=1&stats_click=search_radio_all%3A1&initiative_id=staobaoz_20181012&ie=utf8\n",
      "https://s.taobao.com/search?q=花田小学的属鼠班+我们是属鼠班+书&imgfile=&js=1&stats_click=search_radio_all%3A1&initiative_id=staobaoz_20181012&ie=utf8\n",
      "https://s.taobao.com/search?q=莎莎的月光+书&imgfile=&js=1&stats_click=search_radio_all%3A1&initiative_id=staobaoz_20181012&ie=utf8\n",
      "https://s.taobao.com/search?q=虎凤蝶+书&imgfile=&js=1&stats_click=search_radio_all%3A1&initiative_id=staobaoz_20181012&ie=utf8\n",
      "https://s.taobao.com/search?q=神奇校车+书&imgfile=&js=1&stats_click=search_radio_all%3A1&initiative_id=staobaoz_20181012&ie=utf8\n",
      "[]\n",
      "[]\n",
      "[]\n"
     ]
    },
    {
     "ename": "KeyboardInterrupt",
     "evalue": "",
     "output_type": "error",
     "traceback": [
      "\u001b[0;31m---------------------------------------------------------------------------\u001b[0m",
      "\u001b[0;31mKeyboardInterrupt\u001b[0m                         Traceback (most recent call last)",
      "\u001b[0;32m<ipython-input-122-937f41f5c190>\u001b[0m in \u001b[0;36m<module>\u001b[0;34m()\u001b[0m\n\u001b[0;32m----> 1\u001b[0;31m \u001b[0mdata_list\u001b[0m\u001b[0;34m=\u001b[0m\u001b[0mrun\u001b[0m\u001b[0;34m(\u001b[0m\u001b[0mk\u001b[0m\u001b[0;34m)\u001b[0m\u001b[0;34m\u001b[0m\u001b[0m\n\u001b[0m",
      "\u001b[0;32m<ipython-input-121-87d57ad09d54>\u001b[0m in \u001b[0;36mrun\u001b[0;34m(driver)\u001b[0m\n\u001b[1;32m     10\u001b[0m \u001b[0;34m\u001b[0m\u001b[0m\n\u001b[1;32m     11\u001b[0m     \u001b[0;32mfor\u001b[0m \u001b[0mkey\u001b[0m\u001b[0;34m,\u001b[0m \u001b[0murl\u001b[0m \u001b[0;32min\u001b[0m \u001b[0mstart_urls\u001b[0m\u001b[0;34m.\u001b[0m\u001b[0mitems\u001b[0m\u001b[0;34m(\u001b[0m\u001b[0;34m)\u001b[0m\u001b[0;34m:\u001b[0m\u001b[0;34m\u001b[0m\u001b[0m\n\u001b[0;32m---> 12\u001b[0;31m         \u001b[0mtime\u001b[0m\u001b[0;34m.\u001b[0m\u001b[0msleep\u001b[0m\u001b[0;34m(\u001b[0m\u001b[0;36m10\u001b[0m\u001b[0;34m)\u001b[0m\u001b[0;34m\u001b[0m\u001b[0m\n\u001b[0m\u001b[1;32m     13\u001b[0m         \u001b[0mcontent\u001b[0m\u001b[0;34m=\u001b[0m\u001b[0mdriver\u001b[0m\u001b[0;34m.\u001b[0m\u001b[0mget\u001b[0m\u001b[0;34m(\u001b[0m\u001b[0murl\u001b[0m\u001b[0;34m)\u001b[0m\u001b[0;34m\u001b[0m\u001b[0m\n\u001b[1;32m     14\u001b[0m         \u001b[0mdata\u001b[0m\u001b[0;34m=\u001b[0m\u001b[0mparse\u001b[0m\u001b[0;34m(\u001b[0m\u001b[0mbs\u001b[0m\u001b[0;34m(\u001b[0m\u001b[0mcontent\u001b[0m\u001b[0;34m,\u001b[0m\u001b[0;34m'lxml'\u001b[0m\u001b[0;34m)\u001b[0m\u001b[0;34m,\u001b[0m\u001b[0mkey\u001b[0m\u001b[0;34m)\u001b[0m\u001b[0;34m\u001b[0m\u001b[0m\n",
      "\u001b[0;31mKeyboardInterrupt\u001b[0m: "
     ]
    }
   ],
   "source": [
    "data_list=run(k)"
   ]
  },
  {
   "cell_type": "code",
   "execution_count": 106,
   "metadata": {},
   "outputs": [],
   "source": [
    "columns=['key','item','item_url','price','shop','shop_url']\n",
    "csv_data=pd.DataFrame(data_list,columns=columns)\n",
    "data=csv_data.to_csv('searchbook.csv')"
   ]
  },
  {
   "cell_type": "code",
   "execution_count": 115,
   "metadata": {},
   "outputs": [
    {
     "ename": "WebDriverException",
     "evalue": "Message: invalid session id\n  (Driver info: chromedriver=2.42.591059 (a3d9684d10d61aa0c45f6723b327283be1ebaad8),platform=Mac OS X 10.13.6 x86_64)\n",
     "output_type": "error",
     "traceback": [
      "\u001b[0;31m---------------------------------------------------------------------------\u001b[0m",
      "\u001b[0;31mWebDriverException\u001b[0m                        Traceback (most recent call last)",
      "\u001b[0;32m<ipython-input-115-a367350a7971>\u001b[0m in \u001b[0;36m<module>\u001b[0;34m()\u001b[0m\n\u001b[0;32m----> 1\u001b[0;31m \u001b[0mk\u001b[0m\u001b[0;34m.\u001b[0m\u001b[0mclose\u001b[0m\u001b[0;34m(\u001b[0m\u001b[0;34m)\u001b[0m\u001b[0;34m\u001b[0m\u001b[0m\n\u001b[0m",
      "\u001b[0;32m<ipython-input-98-23ca15d784b1>\u001b[0m in \u001b[0;36mclose\u001b[0;34m(self)\u001b[0m\n\u001b[1;32m     66\u001b[0m     \u001b[0;32mdef\u001b[0m \u001b[0mclose\u001b[0m\u001b[0;34m(\u001b[0m\u001b[0mself\u001b[0m\u001b[0;34m)\u001b[0m\u001b[0;34m:\u001b[0m\u001b[0;34m\u001b[0m\u001b[0m\n\u001b[1;32m     67\u001b[0m         \u001b[0;32mfor\u001b[0m \u001b[0mx\u001b[0m \u001b[0;32min\u001b[0m \u001b[0mrange\u001b[0m\u001b[0;34m(\u001b[0m\u001b[0mself\u001b[0m\u001b[0;34m.\u001b[0m\u001b[0mnumber\u001b[0m\u001b[0;34m)\u001b[0m\u001b[0;34m:\u001b[0m\u001b[0;34m\u001b[0m\u001b[0m\n\u001b[0;32m---> 68\u001b[0;31m             \u001b[0mself\u001b[0m\u001b[0;34m.\u001b[0m\u001b[0mdriver\u001b[0m\u001b[0;34m[\u001b[0m\u001b[0mx\u001b[0m\u001b[0;34m]\u001b[0m\u001b[0;34m.\u001b[0m\u001b[0mclose\u001b[0m\u001b[0;34m(\u001b[0m\u001b[0;34m)\u001b[0m\u001b[0;34m\u001b[0m\u001b[0m\n\u001b[0m\u001b[1;32m     69\u001b[0m \u001b[0;34m\u001b[0m\u001b[0m\n\u001b[1;32m     70\u001b[0m \u001b[0;34m\u001b[0m\u001b[0m\n",
      "\u001b[0;32m<ipython-input-98-23ca15d784b1>\u001b[0m in \u001b[0;36mclose\u001b[0;34m(self)\u001b[0m\n\u001b[1;32m     30\u001b[0m \u001b[0;34m\u001b[0m\u001b[0m\n\u001b[1;32m     31\u001b[0m     \u001b[0;32mdef\u001b[0m \u001b[0mclose\u001b[0m\u001b[0;34m(\u001b[0m\u001b[0mself\u001b[0m\u001b[0;34m)\u001b[0m\u001b[0;34m:\u001b[0m\u001b[0;34m\u001b[0m\u001b[0m\n\u001b[0;32m---> 32\u001b[0;31m         \u001b[0mself\u001b[0m\u001b[0;34m.\u001b[0m\u001b[0mdriver\u001b[0m\u001b[0;34m.\u001b[0m\u001b[0mclose\u001b[0m\u001b[0;34m(\u001b[0m\u001b[0;34m)\u001b[0m\u001b[0;34m\u001b[0m\u001b[0m\n\u001b[0m\u001b[1;32m     33\u001b[0m \u001b[0;34m\u001b[0m\u001b[0m\n\u001b[1;32m     34\u001b[0m \u001b[0;34m\u001b[0m\u001b[0m\n",
      "\u001b[0;32m/usr/local/anaconda3/lib/python3.6/site-packages/selenium/webdriver/remote/webdriver.py\u001b[0m in \u001b[0;36mclose\u001b[0;34m(self)\u001b[0m\n\u001b[1;32m    685\u001b[0m             \u001b[0mdriver\u001b[0m\u001b[0;34m.\u001b[0m\u001b[0mclose\u001b[0m\u001b[0;34m(\u001b[0m\u001b[0;34m)\u001b[0m\u001b[0;34m\u001b[0m\u001b[0m\n\u001b[1;32m    686\u001b[0m         \"\"\"\n\u001b[0;32m--> 687\u001b[0;31m         \u001b[0mself\u001b[0m\u001b[0;34m.\u001b[0m\u001b[0mexecute\u001b[0m\u001b[0;34m(\u001b[0m\u001b[0mCommand\u001b[0m\u001b[0;34m.\u001b[0m\u001b[0mCLOSE\u001b[0m\u001b[0;34m)\u001b[0m\u001b[0;34m\u001b[0m\u001b[0m\n\u001b[0m\u001b[1;32m    688\u001b[0m \u001b[0;34m\u001b[0m\u001b[0m\n\u001b[1;32m    689\u001b[0m     \u001b[0;32mdef\u001b[0m \u001b[0mquit\u001b[0m\u001b[0;34m(\u001b[0m\u001b[0mself\u001b[0m\u001b[0;34m)\u001b[0m\u001b[0;34m:\u001b[0m\u001b[0;34m\u001b[0m\u001b[0m\n",
      "\u001b[0;32m/usr/local/anaconda3/lib/python3.6/site-packages/selenium/webdriver/remote/webdriver.py\u001b[0m in \u001b[0;36mexecute\u001b[0;34m(self, driver_command, params)\u001b[0m\n\u001b[1;32m    318\u001b[0m         \u001b[0mresponse\u001b[0m \u001b[0;34m=\u001b[0m \u001b[0mself\u001b[0m\u001b[0;34m.\u001b[0m\u001b[0mcommand_executor\u001b[0m\u001b[0;34m.\u001b[0m\u001b[0mexecute\u001b[0m\u001b[0;34m(\u001b[0m\u001b[0mdriver_command\u001b[0m\u001b[0;34m,\u001b[0m \u001b[0mparams\u001b[0m\u001b[0;34m)\u001b[0m\u001b[0;34m\u001b[0m\u001b[0m\n\u001b[1;32m    319\u001b[0m         \u001b[0;32mif\u001b[0m \u001b[0mresponse\u001b[0m\u001b[0;34m:\u001b[0m\u001b[0;34m\u001b[0m\u001b[0m\n\u001b[0;32m--> 320\u001b[0;31m             \u001b[0mself\u001b[0m\u001b[0;34m.\u001b[0m\u001b[0merror_handler\u001b[0m\u001b[0;34m.\u001b[0m\u001b[0mcheck_response\u001b[0m\u001b[0;34m(\u001b[0m\u001b[0mresponse\u001b[0m\u001b[0;34m)\u001b[0m\u001b[0;34m\u001b[0m\u001b[0m\n\u001b[0m\u001b[1;32m    321\u001b[0m             response['value'] = self._unwrap_value(\n\u001b[1;32m    322\u001b[0m                 response.get('value', None))\n",
      "\u001b[0;32m/usr/local/anaconda3/lib/python3.6/site-packages/selenium/webdriver/remote/errorhandler.py\u001b[0m in \u001b[0;36mcheck_response\u001b[0;34m(self, response)\u001b[0m\n\u001b[1;32m    240\u001b[0m                 \u001b[0malert_text\u001b[0m \u001b[0;34m=\u001b[0m \u001b[0mvalue\u001b[0m\u001b[0;34m[\u001b[0m\u001b[0;34m'alert'\u001b[0m\u001b[0;34m]\u001b[0m\u001b[0;34m.\u001b[0m\u001b[0mget\u001b[0m\u001b[0;34m(\u001b[0m\u001b[0;34m'text'\u001b[0m\u001b[0;34m)\u001b[0m\u001b[0;34m\u001b[0m\u001b[0m\n\u001b[1;32m    241\u001b[0m             \u001b[0;32mraise\u001b[0m \u001b[0mexception_class\u001b[0m\u001b[0;34m(\u001b[0m\u001b[0mmessage\u001b[0m\u001b[0;34m,\u001b[0m \u001b[0mscreen\u001b[0m\u001b[0;34m,\u001b[0m \u001b[0mstacktrace\u001b[0m\u001b[0;34m,\u001b[0m \u001b[0malert_text\u001b[0m\u001b[0;34m)\u001b[0m\u001b[0;34m\u001b[0m\u001b[0m\n\u001b[0;32m--> 242\u001b[0;31m         \u001b[0;32mraise\u001b[0m \u001b[0mexception_class\u001b[0m\u001b[0;34m(\u001b[0m\u001b[0mmessage\u001b[0m\u001b[0;34m,\u001b[0m \u001b[0mscreen\u001b[0m\u001b[0;34m,\u001b[0m \u001b[0mstacktrace\u001b[0m\u001b[0;34m)\u001b[0m\u001b[0;34m\u001b[0m\u001b[0m\n\u001b[0m\u001b[1;32m    243\u001b[0m \u001b[0;34m\u001b[0m\u001b[0m\n\u001b[1;32m    244\u001b[0m     \u001b[0;32mdef\u001b[0m \u001b[0m_value_or_default\u001b[0m\u001b[0;34m(\u001b[0m\u001b[0mself\u001b[0m\u001b[0;34m,\u001b[0m \u001b[0mobj\u001b[0m\u001b[0;34m,\u001b[0m \u001b[0mkey\u001b[0m\u001b[0;34m,\u001b[0m \u001b[0mdefault\u001b[0m\u001b[0;34m)\u001b[0m\u001b[0;34m:\u001b[0m\u001b[0;34m\u001b[0m\u001b[0m\n",
      "\u001b[0;31mWebDriverException\u001b[0m: Message: invalid session id\n  (Driver info: chromedriver=2.42.591059 (a3d9684d10d61aa0c45f6723b327283be1ebaad8),platform=Mac OS X 10.13.6 x86_64)\n"
     ]
    }
   ],
   "source": [
    "k.close()"
   ]
  },
  {
   "cell_type": "code",
   "execution_count": 33,
   "metadata": {},
   "outputs": [],
   "source": []
  },
  {
   "cell_type": "code",
   "execution_count": null,
   "metadata": {},
   "outputs": [],
   "source": []
  }
 ],
 "metadata": {
  "kernelspec": {
   "display_name": "Python 3",
   "language": "python",
   "name": "python3"
  },
  "language_info": {
   "codemirror_mode": {
    "name": "ipython",
    "version": 3
   },
   "file_extension": ".py",
   "mimetype": "text/x-python",
   "name": "python",
   "nbconvert_exporter": "python",
   "pygments_lexer": "ipython3",
   "version": "3.6.4"
  }
 },
 "nbformat": 4,
 "nbformat_minor": 2
}
